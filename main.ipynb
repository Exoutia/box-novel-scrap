{
 "cells": [
  {
   "cell_type": "code",
   "execution_count": 3,
   "metadata": {},
   "outputs": [],
   "source": [
    "from bs4 import BeautifulSoup\n",
    "import requests"
   ]
  },
  {
   "cell_type": "code",
   "execution_count": 29,
   "metadata": {},
   "outputs": [
    {
     "name": "stdout",
     "output_type": "stream",
     "text": [
      "chapter-1348\n"
     ]
    }
   ],
   "source": [
    "URL = \"https://boxnovel.com/novel/my-disciples-are-all-villains-boxnovel/chapter-1348/\"\n",
    "content = requests.get(URL).content\n",
    "\n",
    "soup = BeautifulSoup(content, \"html.parser\")\n",
    "x = soup.find(\"div\", {\"class\": \"text-left\"})\n",
    "\n",
    "y = soup.find(\"div\", {\"class\": \"reading-content\"})\n",
    "\n",
    "name = y.find(\"input\", {\"id\": \"wp-manga-current-chap\"}).get(\"value\")\n",
    "\n",
    "with open(f\"{name}.txt\", \"w\") as f:\n",
    "    f.write(x.text)\n"
   ]
  },
  {
   "cell_type": "code",
   "execution_count": null,
   "metadata": {},
   "outputs": [],
   "source": []
  }
 ],
 "metadata": {
  "kernelspec": {
   "display_name": "Python 3.10.8 64-bit",
   "language": "python",
   "name": "python3"
  },
  "language_info": {
   "codemirror_mode": {
    "name": "ipython",
    "version": 3
   },
   "file_extension": ".py",
   "mimetype": "text/x-python",
   "name": "python",
   "nbconvert_exporter": "python",
   "pygments_lexer": "ipython3",
   "version": "3.10.8"
  },
  "orig_nbformat": 4,
  "vscode": {
   "interpreter": {
    "hash": "e7370f93d1d0cde622a1f8e1c04877d8463912d04d973331ad4851f04de6915a"
   }
  }
 },
 "nbformat": 4,
 "nbformat_minor": 2
}
